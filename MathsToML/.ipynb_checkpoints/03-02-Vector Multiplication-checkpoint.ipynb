{
  "cells": [
    {
      "metadata": {},
      "cell_type": "markdown",
      "source": "# Vector Multiplication\nVector multiplication can be performed in three ways:\n\n- Scalar Multiplication\n- Dot Product Multiplication\n- Cross Product Multiplication\n\n## Scalar Multiplication\nLet's start with *scalar* multiplication - in other words, multiplying a vector by a single numeric value.\n\nSuppose I want to multiply my vector by 2, which I could write like this:\n\n\\begin{equation} \\vec{w} = 2\\vec{v}\\end{equation}\n\nNote that the result of this calculation is a new vector named **w**. So how would we calculate this?\nRecall that **v** is defined like this:\n\n\\begin{equation}\\vec{v} = \\begin{bmatrix}2 \\\\ 1 \\end{bmatrix}\\end{equation}\n\nTo calculate 2v, we simply need to apply the operation to each dimension value in the vector matrix, like this:\n\n\\begin{equation}\\vec{w} = \\begin{bmatrix}2 \\cdot 2 \\\\  2 \\cdot 1 \\end{bmatrix}\\end{equation}\n\nWhich gives us the following result:\n\n\\begin{equation}\\vec{w} = \\begin{bmatrix}2 \\cdot 2 \\\\  2 \\cdot 1 \\end{bmatrix} = \\begin{bmatrix}4 \\\\ 2 \\end{bmatrix}\\end{equation}\n\nIn Python, you can apply these sort of matrix operations directly to numpy arrays, so we can simply calculate **w** like this:"
    },
    {
      "metadata": {
        "trusted": true
      },
      "cell_type": "code",
      "source": "%matplotlib inline\n\nimport numpy as np\nimport matplotlib.pyplot as plt\nimport math\n\nv = np.array([2,1])\n\nw = 2 * v\nprint(w)\n\n# Plot w\norigin = [0], [0]\nplt.grid()\nplt.ticklabel_format(style='sci', axis='both', scilimits=(0,0))\nplt.quiver(*origin, *w, scale=10)\nplt.show()",
      "execution_count": 1,
      "outputs": [
        {
          "output_type": "stream",
          "text": "[4 2]\n",
          "name": "stdout"
        },
        {
          "output_type": "display_data",
          "data": {
            "image/png": "[encoded data removed]",
            "text/plain": "<Figure size 432x288 with 1 Axes>"
          },
          "metadata": {
            "needs_background": "light"
          }
        }
      ]
    },
    {
      "metadata": {},
      "cell_type": "markdown",
      "source": "The same approach is taken for scalar division.\n\nTry it for yourself - use the cell below to calculate a new vector named **b** based on the following definition:\n\n\\begin{equation}\\vec{b} = \\frac{\\vec{v}}{2}\\end{equation}"
    },
    {
      "metadata": {
        "trusted": false
      },
      "cell_type": "code",
      "source": "b = v / 2\nprint(b)\n\n# Plot b\norigin = [0], [0]\nplt.axis('equal')\nplt.grid()\nplt.ticklabel_format(style='sci', axis='both', scilimits=(0,0))\nplt.quiver(*origin, *b, scale=10)\nplt.show()",
      "execution_count": null,
      "outputs": []
    },
    {
      "metadata": {},
      "cell_type": "markdown",
      "source": "## Dot Product Multiplication\nSo we've seen how to multiply a vector by a scalar. How about multiplying two vectors together? There are actually two ways to do this depending on whether you want the result to be a *scalar product* (in other words, a number) or a *vector product* (a vector).\n\nTo get a scalar product, we calculate the *dot product*. This takes a similar approach to multiplying a vector by a scalar, except that it multiplies each component pair of the vectors and sums the results. To indicate that we are performing a dot product operation, we use the &bull; operator:\n\n\\begin{equation} \\vec{v} \\cdot \\vec{s} = (v_{1} \\cdot s_{1}) + (v_{2} \\cdot s_{2}) ... + \\; (v_{n} \\cdot s_{n})\\end{equation}\n\nSo for our vectors **v** (2,1) and **s** (-3,2), our calculation looks like this:\n\n\\begin{equation} \\vec{v} \\cdot \\vec{s} = (2 \\cdot -3) + (1 \\cdot 2) = -6 + 2 = -4\\end{equation}\n\nSo the dot product, or scalar product, of **v** &bull; **s** is **-4**.\n\nIn Python, you can use the *numpy.**dot*** function to calculate the dot product of two vector arrays:"
    },
    {
      "metadata": {
        "trusted": true
      },
      "cell_type": "code",
      "source": "import numpy as np\n\nv = np.array([2,1])\ns = np.array([-3,2])\nd = np.dot(v,s)\nprint (d)",
      "execution_count": 2,
      "outputs": [
        {
          "output_type": "stream",
          "text": "-4\n",
          "name": "stdout"
        }
      ]
    },
    {
      "metadata": {},
      "cell_type": "markdown",
      "source": "In Python 3.5 and later, you can also use the **@** operator to calculate the dot product:"
    },
    {
      "metadata": {
        "trusted": true
      },
      "cell_type": "code",
      "source": "import numpy as np\n\nv = np.array([2,1])\ns = np.array([-3,2])\nd = v @ s\nprint (d)",
      "execution_count": 3,
      "outputs": [
        {
          "output_type": "stream",
          "text": "-4\n",
          "name": "stdout"
        }
      ]
    },
    {
      "metadata": {},
      "cell_type": "markdown",
      "source": "### The Cosine Rule\nAn useful property of vector dot product multiplication is that we can use it to calculate the cosine of the angle between two vectors. We could write the dot products as:\n\n$$ \\vec{v} \\cdot \\vec{s} = \\|\\vec{v} \\|\\|\\vec{s}\\| \\cos (\\theta) $$ \n\nWhich we can rearrange as:\n\n$$ \\cos(\\theta) = \\frac{\\vec{v} \\cdot \\vec{s}}{\\|\\vec{v} \\|\\|\\vec{s}\\|} $$\n\nSo for our vectors **v** (2,1) and **s** (-3,2), our calculation looks like this:\n\n$$ \\cos(\\theta) = \\frac{(2 \\cdot-3) + (-3 \\cdot 2)}{\\sqrt{2^{2} + 1^{2}} \\times \\sqrt{-3^{2} + 2^{2}}} $$\n\nSo:\n\n$$\\cos(\\theta) = \\frac{-4}{8.0622577483}$$\n\nWhich calculates to:\n\n$$\\cos(\\theta) = -0.496138938357 $$\n\nSo:\n\n$$\\theta \\approx 119.74 $$\n\nHere's that calculation in Python:"
    },
    {
      "metadata": {
        "trusted": true
      },
      "cell_type": "code",
      "source": "import math\nimport numpy as np\n\n# define our vectors\nv = np.array([2,1])\ns = np.array([-3,2])\n\n# get the magnitudes\nvMag = np.linalg.norm(v)\nsMag = np.linalg.norm(s)\n\n# calculate the cosine of theta\ncos = (v @ s) / (vMag * sMag)\n\n# so theta (in degrees) is:\ntheta = math.degrees(math.acos(cos))\n\nprint(theta)\n",
      "execution_count": 4,
      "outputs": [
        {
          "output_type": "stream",
          "text": "119.74488129694222\n",
          "name": "stdout"
        }
      ]
    },
    {
      "metadata": {
        "collapsed": true
      },
      "cell_type": "markdown",
      "source": "## Cross Product Multiplication\nTo get the *vector product* of multipying two vectors together, you must calculate the *cross product*. The result of this is a new vector that is at right angles to both the other vectors in 3D Euclidean space. This means that the cross-product only really makes sense when working with vectors that contain three components.\n\nFor example, let's suppose we have the following vectors:\n\n\\begin{equation}\\vec{p} = \\begin{bmatrix}2 \\\\ 3 \\\\ 1 \\end{bmatrix}\\;\\; \\vec{q} = \\begin{bmatrix}1 \\\\ 2 \\\\ -2 \\end{bmatrix}\\end{equation}\n\nTo calculate the cross product of these vectors, written as **p** x **q**, we need to create a new vector (let's call it **r**) with three components (r<sub>1</sub>, r<sub>2</sub>, and r<sub>3</sub>). The values for these components are calculated like this:\n\n\\begin{equation}r_{1} = p_{2}q_{3} - p_{3}q_{2}\\end{equation}\n\\begin{equation}r_{2} = p_{3}q_{1} - p_{1}q_{3}\\end{equation}\n\\begin{equation}r_{3} = p_{1}q_{2} - p_{2}q_{1}\\end{equation}\n\nSo in our case:\n\n\\begin{equation}\\vec{r} = \\vec{p} \\times \\vec{q} = \\begin{bmatrix}(3 \\cdot -2) - (1 \\cdot 2) \\\\ (1 \\cdot 1) - (2 \\cdot -2) \\\\ (2 \\cdot 2) - (3 \\cdot 1) \\end{bmatrix} = \\begin{bmatrix}-6 - 2 \\\\ 1 - -4 \\\\ 4 - 3 \\end{bmatrix} = \\begin{bmatrix}-8 \\\\ 5 \\\\ 1 \\end{bmatrix}\\end{equation}\n\nIn Python, you can use the *numpy.**cross*** function to calculate the cross product of two vector arrays:"
    },
    {
      "metadata": {
        "trusted": true
      },
      "cell_type": "code",
      "source": "import numpy as np\n\np = np.array([2,3,1])\nq = np.array([1,2,-2])\nr = np.cross(p,q)\nprint (r)",
      "execution_count": 5,
      "outputs": [
        {
          "output_type": "stream",
          "text": "[-8  5  1]\n",
          "name": "stdout"
        }
      ]
    },
    {
      "metadata": {
        "trusted": true
      },
      "cell_type": "code",
      "source": "",
      "execution_count": null,
      "outputs": []
    }
  ],
  "metadata": {
    "kernelspec": {
      "name": "python36",
      "display_name": "Python 3.6",
      "language": "python"
    },
    "language_info": {
      "mimetype": "text/x-python",
      "nbconvert_exporter": "python",
      "name": "python",
      "pygments_lexer": "ipython3",
      "version": "3.6.6",
      "file_extension": ".py",
      "codemirror_mode": {
        "version": 3,
        "name": "ipython"
      }
    }
  },
  "nbformat": 4,
  "nbformat_minor": 2
}